{
 "cells": [
  {
   "cell_type": "markdown",
   "id": "307cfcdf-ac1f-4e05-b4b3-10cc8c78e8f4",
   "metadata": {},
   "source": [
    "# *Notebook*"
   ]
  },
  {
   "cell_type": "markdown",
   "id": "de2ffbc0-6ffd-4c0a-a15d-91ff079f500b",
   "metadata": {},
   "source": [
    "## *Introduction*\n",
    "This notebook contains exercises related to Data Science.\n"
   ]
  },
  {
   "cell_type": "markdown",
   "id": "18dfc6ce-0628-4c95-8197-a732d8578030",
   "metadata": {
    "jp-MarkdownHeadingCollapsed": true
   },
   "source": [
    "### *Data Science Languages*\n",
    "Some common programming languages used in Data Science:\n",
    "- Python\n",
    "- R\n",
    "- SQL\n",
    "- Julia\n",
    "- Scala"
   ]
  },
  {
   "cell_type": "markdown",
   "id": "8ab4a04b-47e7-46ed-9ccf-7df44c93eff3",
   "metadata": {},
   "source": [
    "### *Data Science Libraries*\n",
    "Some libraries commonly used in Data Science:\n",
    "- Pandas\n",
    "- NumPy\n",
    "- Matplotlib\n",
    "- Scikit-learn\n",
    "- TensorFlow"
   ]
  },
  {
   "cell_type": "markdown",
   "id": "a7dad12d-bfe2-4a61-8a1b-e709f16766df",
   "metadata": {},
   "source": [
    "### *Data Science Tools*\n",
    "| *Tool*                                      | *Description*                                                                         |\n",
    "|------------------------------------------|--------------------------------------------------------------------------------------|\n",
    "| Jupyter Notebook                           | Interactive coding environment                                                     |\n",
    "| RStudio                                   | IDE for R programming                                                               |\n",
    "| TensorFlow                                | Deep learning library                                                               |\n",
    "| Power BI                                  | Data visualization tool                                                             |\n",
    "| Apache Spark                              | Big Data processing framework                                                       |\n",
    "| Tableau                                   | Business Intelligence and Data Visualization tool                                   |"
   ]
  },
  {
   "cell_type": "markdown",
   "id": "8504610e-f90b-4090-9935-18f5eb1349f1",
   "metadata": {},
   "source": [
    "### *Arithmetic Expression Examples*\n",
    "Here are some examples of arithmetic operations in Python:\n",
    "- `(2 + 8) = 10`  **(Addition)**\n",
    "- `(10 / 2) = 5`  **(Division)**\n",
    "- `(5 * 4) = 20`  **(Multiplication)**\n",
    "- `(2 ** 3) = 8` **(Exponentiation)**"
   ]
  },
  {
   "cell_type": "code",
   "execution_count": 91,
   "id": "240b5cda-d484-49ea-9f81-154bc9afa304",
   "metadata": {},
   "outputs": [
    {
     "name": "stdout",
     "output_type": "stream",
     "text": [
      "Double of 7 is 14\n"
     ]
    }
   ],
   "source": [
    "### *Double a number and add it to itself*\n",
    "num = 7  # You can change the number as needed\n",
    "result = num * 2\n",
    "print(f\"Double of {num} is {result}\")"
   ]
  },
  {
   "cell_type": "code",
   "execution_count": 93,
   "id": "fcc9e008-ba2f-498d-8f2e-6b62996d8e98",
   "metadata": {},
   "outputs": [
    {
     "name": "stdout",
     "output_type": "stream",
     "text": [
      "200 minutes is equal to 3.3333333333333335 hours\n"
     ]
    }
   ],
   "source": [
    "### *Convert minutes to hours*\n",
    "minutes = 200\n",
    "hours = minutes / 60\n",
    "print(f\"{minutes} minutes is equal to {hours} hours\")"
   ]
  },
  {
   "cell_type": "markdown",
   "id": "b8de7cfc-789d-4eb4-a924-e62d7eb9aa69",
   "metadata": {},
   "source": [
    "### *Objectives*\n",
    "- Learn the basics of Data Science\n",
    "- Perform arithmetic operations in Python\n",
    "- Understand key Data Science tools and libraries"
   ]
  },
  {
   "cell_type": "markdown",
   "id": "7b03a597-21fb-446c-bed7-80785cf42f1b",
   "metadata": {},
   "source": [
    "### *Name*\n",
    "**Name:** [Abdullah ALRabie]"
   ]
  }
 ],
 "metadata": {
  "kernelspec": {
   "display_name": "Python [conda env:base] *",
   "language": "python",
   "name": "conda-base-py"
  },
  "language_info": {
   "codemirror_mode": {
    "name": "ipython",
    "version": 3
   },
   "file_extension": ".py",
   "mimetype": "text/x-python",
   "name": "python",
   "nbconvert_exporter": "python",
   "pygments_lexer": "ipython3",
   "version": "3.12.7"
  }
 },
 "nbformat": 4,
 "nbformat_minor": 5
}
